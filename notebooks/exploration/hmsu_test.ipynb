{
 "cells": [
  {
   "cell_type": "markdown",
   "metadata": {},
   "source": [
    "# Time-varying loadings\n",
    "\n",
    "**Exchange rates and macroeconomic fundamentals: Evidence of instabilities from time‐varying factor loadings**\n",
    "\n",
    "Eric Hillebrand, Jakob Guldbæk Mikkelsen, Lars Spreng, Giovanni Urga"
   ]
  },
  {
   "cell_type": "code",
   "execution_count": 1,
   "metadata": {},
   "outputs": [],
   "source": [
    "import pandas as pd\n",
    "from sklearn.decomposition import TruncatedSVD\n",
    "from sklearn.preprocessing import StandardScaler\n",
    "import numpy as np\n",
    "from latentfactors.core.tvp import LoglikNomean, KFNomean\n",
    "from latentfactors import cfg\n",
    "from scipy.optimize import minimize\n",
    "\n",
    "k = 3\n",
    "cfg.fldr = r\"C:\\Users\\franc\\My Drive\\bin\\latentfactors\"\n",
    "fx = pd.read_excel(fr\"{cfg.fldr}/data/hmsu/fx.xlsx\", index_col=0)\n",
    "eco_us = pd.read_excel(fr\"{cfg.fldr}/data/hmsu/usa.xlsx\", index_col=0)\n",
    "\n",
    "# Log-difference FX\n",
    "dlog_fx = fx.apply(np.log).diff().reindex(eco_us.index).mul(-1)\n",
    "t, n = dlog_fx.shape"
   ]
  },
  {
   "cell_type": "markdown",
   "metadata": {},
   "source": [
    "## Factors estimation"
   ]
  },
  {
   "cell_type": "code",
   "execution_count": 2,
   "metadata": {},
   "outputs": [],
   "source": [
    "# Standardize economic indicators\n",
    "scaler = StandardScaler()\n",
    "scaler.fit(eco_us)\n",
    "X = scaler.transform(eco_us)\n",
    "\n",
    "# Transform them into actors\n",
    "np.random.seed(1234)\n",
    "svd = TruncatedSVD(n_components=k)\n",
    "svd.fit(X)\n",
    "V = svd.components_  # Right singular vectors\n",
    "S = svd.singular_values_\n",
    "\n",
    "U = X @ V.T @ np.linalg.inv(np.diag(S))  # Left singular values\n",
    "mF = np.multiply(U, np.sqrt(t))"
   ]
  },
  {
   "cell_type": "markdown",
   "metadata": {},
   "source": [
    "## Estimate loadings"
   ]
  },
  {
   "cell_type": "code",
   "execution_count": 3,
   "metadata": {},
   "outputs": [],
   "source": [
    "mBeta = {}\n",
    "\n",
    "# For-loop\n",
    "crncy = \"AUD\"\n",
    "\n",
    "# OLS Estimates\n",
    "r = dlog_fx[crncy].values.reshape(-1, 1)  # FX Series\n",
    "b = np.linalg.inv(mF.T @ mF) @ mF.T @ r  # OLS Beta\n",
    "r_hat = mF @ b  # OLS predicted values\n",
    "e = r - r_hat\n",
    "s_e = e.T @ e / t  # Asymptotic OLS variance\n",
    "# TODO: Compute White VCV\n",
    "# TODO: Compute HAC VCV\n",
    "L_ols = -1/2 * t * np.log(s_e.item())  # Likelihood values for restricted model with all loadings constant\n",
    "# mBeta[crncy] = b.flatten()"
   ]
  },
  {
   "cell_type": "code",
   "execution_count": 12,
   "metadata": {},
   "outputs": [],
   "source": [
    "vP0 = np.concatenate([np.zeros((2 * k, 1)), np.log(s_e)])\n",
    "\n",
    "opt = minimize(\n",
    "    fun=LoglikNomean, \n",
    "    x0=vP0.flatten(), \n",
    "    args=(r, mF),\n",
    "    method='SLSQP'\n",
    ")"
   ]
  },
  {
   "cell_type": "code",
   "execution_count": 13,
   "metadata": {},
   "outputs": [
    {
     "data": {
      "text/plain": [
       " message: Optimization terminated successfully\n",
       " success: True\n",
       "  status: 0\n",
       "     fun: -1192.5776914243527\n",
       "       x: [ 7.699e-03 -5.020e+01  1.359e-02 -7.121e+01  5.380e-03\n",
       "           -6.689e+01 -7.327e+00]\n",
       "     nit: 5\n",
       "     jac: [ 0.000e+00  0.000e+00  0.000e+00  0.000e+00  0.000e+00\n",
       "            0.000e+00 -4.883e-04]\n",
       "    nfev: 43\n",
       "    njev: 5"
      ]
     },
     "execution_count": 13,
     "metadata": {},
     "output_type": "execute_result"
    }
   ],
   "source": [
    "opt"
   ]
  },
  {
   "cell_type": "code",
   "execution_count": null,
   "metadata": {},
   "outputs": [],
   "source": [
    "from filterpy.kalman import KalmanFilter\n"
   ]
  }
 ],
 "metadata": {
  "kernelspec": {
   "display_name": "research",
   "language": "python",
   "name": "python3"
  },
  "language_info": {
   "codemirror_mode": {
    "name": "ipython",
    "version": 3
   },
   "file_extension": ".py",
   "mimetype": "text/x-python",
   "name": "python",
   "nbconvert_exporter": "python",
   "pygments_lexer": "ipython3",
   "version": "3.11.4"
  }
 },
 "nbformat": 4,
 "nbformat_minor": 2
}

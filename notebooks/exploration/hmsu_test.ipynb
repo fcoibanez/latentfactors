{
 "cells": [
  {
   "cell_type": "markdown",
   "metadata": {},
   "source": [
    "# Time-varying loadings\n",
    "\n",
    "**Exchange rates and macroeconomic fundamentals: Evidence of instabilities from time‐varying factor loadings**\n",
    "\n",
    "Eric Hillebrand, Jakob Guldbæk Mikkelsen, Lars Spreng, Giovanni Urga"
   ]
  },
  {
   "cell_type": "code",
   "execution_count": 7,
   "metadata": {},
   "outputs": [],
   "source": [
    "import pandas as pd\n",
    "from sklearn.decomposition import TruncatedSVD\n",
    "from sklearn.preprocessing import StandardScaler\n",
    "import numpy as np\n",
    "from latentfactors.core.tvp import LoglikNomean, KFNomean\n",
    "from latentfactors import cfg\n",
    "from scipy.optimize import minimize\n",
    "\n",
    "k = 3\n",
    "\n",
    "fx = pd.read_excel(fr\"{cfg.fldr}/data/hmsu/fx.xlsx\", index_col=0)\n",
    "eco_us = pd.read_excel(fr\"{cfg.fldr}/data/hmsu/usa.xlsx\", index_col=0)\n",
    "\n",
    "# Log-difference FX\n",
    "dlog_fx = fx.apply(np.log).diff().reindex(eco_us.index).mul(-1)\n",
    "t, n = dlog_fx.shape"
   ]
  },
  {
   "cell_type": "markdown",
   "metadata": {},
   "source": [
    "## Factors estimation"
   ]
  },
  {
   "cell_type": "code",
   "execution_count": 8,
   "metadata": {},
   "outputs": [],
   "source": [
    "# Standardize economic indicators\n",
    "scaler = StandardScaler()\n",
    "scaler.fit(eco_us)\n",
    "X = scaler.transform(eco_us)\n",
    "\n",
    "# Transform them into actors\n",
    "np.random.seed(1234)\n",
    "svd = TruncatedSVD(n_components=k)\n",
    "svd.fit(X)\n",
    "V = svd.components_  # Right singular vectors\n",
    "S = svd.singular_values_\n",
    "\n",
    "U = X @ V.T @ np.linalg.inv(np.diag(S))  # Left singular values\n",
    "mF = np.multiply(U, np.sqrt(t))"
   ]
  },
  {
   "cell_type": "markdown",
   "metadata": {},
   "source": [
    "## Estimate loadings"
   ]
  },
  {
   "cell_type": "code",
   "execution_count": 9,
   "metadata": {},
   "outputs": [],
   "source": [
    "mBeta = {}\n",
    "\n",
    "# For-loop\n",
    "crncy = \"AUD\"\n",
    "\n",
    "# OLS Estimates\n",
    "r = dlog_fx[crncy].values.reshape(-1, 1)  # FX Series\n",
    "b = np.linalg.inv(mF.T @ mF) @ mF.T @ r  # OLS Beta\n",
    "r_hat = mF @ b  # OLS predicted values\n",
    "e = r - r_hat\n",
    "s_e = e.T @ e / t  # Asymptotic OLS variance\n",
    "# TODO: Compute White VCV\n",
    "# TODO: Compute HAC VCV\n",
    "L_ols = -1/2 * t * np.log(s_e.item())  # Likelihood values for restricted model with all loadings constant\n",
    "# mBeta[crncy] = b.flatten()"
   ]
  },
  {
   "cell_type": "code",
   "execution_count": 10,
   "metadata": {},
   "outputs": [
    {
     "name": "stdout",
     "output_type": "stream",
     "text": [
      "[[ 0.       ]\n",
      " [ 0.       ]\n",
      " [ 0.       ]\n",
      " [ 0.       ]\n",
      " [ 0.       ]\n",
      " [ 0.       ]\n",
      " [-7.3266721]]\n",
      "Optimization terminated successfully    (Exit mode 0)\n",
      "            Current function value: -1192.5776914243604\n",
      "            Iterations: 5\n",
      "            Function evaluations: 43\n",
      "            Gradient evaluations: 5\n",
      " message: Optimization terminated successfully\n",
      " success: True\n",
      "  status: 0\n",
      "     fun: -1192.5776914243604\n",
      "       x: [ 7.698e-03 -5.020e+01  1.359e-02 -7.121e+01  5.378e-03\n",
      "           -6.689e+01 -7.327e+00]\n",
      "     nit: 5\n",
      "     jac: [ 0.000e+00  0.000e+00  0.000e+00  0.000e+00  0.000e+00\n",
      "            0.000e+00 -4.883e-04]\n",
      "    nfev: 43\n",
      "    njev: 5\n"
     ]
    },
    {
     "name": "stderr",
     "output_type": "stream",
     "text": [
      "C:\\Users\\franc\\AppData\\Local\\Temp\\ipykernel_17100\\461742189.py:4: OptimizeWarning: Unknown solver options: maxfev, gtol\n",
      "  opt = minimize(\n"
     ]
    }
   ],
   "source": [
    "vP0 = np.concatenate([np.zeros((2 * k, 1)), np.log(s_e)])\n",
    "print(vP0)\n",
    "\n",
    "opt = minimize(\n",
    "    fun=LoglikNomean, \n",
    "    x0=vP0.flatten(), \n",
    "    args=(r.copy(), mF.copy()),\n",
    "    method=\"SLSQP\",\n",
    "    options={'maxiter': 5e4, 'maxfev': 6e4, 'disp': True, 'gtol': 1e-10}\n",
    ")\n",
    "\n",
    "print(opt)"
   ]
  },
  {
   "cell_type": "code",
   "execution_count": 11,
   "metadata": {},
   "outputs": [
    {
     "data": {
      "text/plain": [
       "-1223.8628864214343"
      ]
     },
     "execution_count": 11,
     "metadata": {},
     "output_type": "execute_result"
    }
   ],
   "source": [
    "v = [\n",
    "    0.627649798962410,\n",
    "    -9.02798243686879,\n",
    "    0.377221893082486,\n",
    "    -9.39757147204541,\n",
    "    0.255891882651142,\n",
    "    -10.6338108464130,\n",
    "    -7.89142932448150,\n",
    "]\n",
    "\n",
    "LoglikNomean(\n",
    "    vP=np.array(v),\n",
    "    Data=r,\n",
    "    mF=mF\n",
    ")"
   ]
  },
  {
   "cell_type": "code",
   "execution_count": 12,
   "metadata": {},
   "outputs": [],
   "source": [
    "from filterpy.kalman import KalmanFilter\n"
   ]
  }
 ],
 "metadata": {
  "kernelspec": {
   "display_name": "research",
   "language": "python",
   "name": "python3"
  },
  "language_info": {
   "codemirror_mode": {
    "name": "ipython",
    "version": 3
   },
   "file_extension": ".py",
   "mimetype": "text/x-python",
   "name": "python",
   "nbconvert_exporter": "python",
   "pygments_lexer": "ipython3",
   "version": "3.11.8"
  }
 },
 "nbformat": 4,
 "nbformat_minor": 2
}
